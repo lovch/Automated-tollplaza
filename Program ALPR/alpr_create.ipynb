{
 "cells": [
  {
   "cell_type": "code",
   "execution_count": 2,
   "metadata": {},
   "outputs": [],
   "source": [
    "import pandas as pd\n",
    "import os\n",
    "import ast"
   ]
  },
  {
   "cell_type": "code",
   "execution_count": 3,
   "metadata": {},
   "outputs": [],
   "source": [
    "def detect(country,filename):\n",
    "    os.system('alpr -c {} -j {} C:\\OpenAlpr\\openalpr_64\\openalpr.conf > test2.txt'.format(country,filename))"
   ]
  },
  {
   "cell_type": "code",
   "execution_count": 4,
   "metadata": {},
   "outputs": [],
   "source": [
    "detect('us','us-1.jpg')"
   ]
  },
  {
   "cell_type": "code",
   "execution_count": 5,
   "metadata": {},
   "outputs": [],
   "source": [
    "f = open(\"test2.txt\",\"r\")\n",
    "contents = f.readlines()"
   ]
  },
  {
   "cell_type": "code",
   "execution_count": 6,
   "metadata": {},
   "outputs": [
    {
     "data": {
      "text/plain": [
       "'{\"version\":2,\"data_type\":\"alpr_results\",\"epoch_time\":1558729089000,\"img_width\":497,\"img_height\":372,\"processing_time_ms\":804.228027,\"regions_of_interest\":[],\"results\":[{\"plate\":\"THECAR\",\"confidence\":93.418907,\"matches_template\":0,\"plate_index\":0,\"region\":\"\",\"region_confidence\":0,\"processing_time_ms\":58.462002,\"requested_topn\":10,\"coordinates\":[{\"x\":218,\"y\":203},{\"x\":317,\"y\":201},{\"x\":319,\"y\":242},{\"x\":219,\"y\":244}],\"candidates\":[{\"plate\":\"THECAR\",\"confidence\":93.418907,\"matches_template\":0},{\"plate\":\"THEGAR\",\"confidence\":78.879166,\"matches_template\":0},{\"plate\":\"THEAR\",\"confidence\":78.851006,\"matches_template\":0},{\"plate\":\"TECAR\",\"confidence\":79.732559,\"matches_template\":0},{\"plate\":\"TMECAR\",\"confidence\":78.519897,\"matches_template\":0},{\"plate\":\"TBECAR\",\"confidence\":78.137581,\"matches_template\":0}]}]}\\n'"
      ]
     },
     "execution_count": 6,
     "metadata": {},
     "output_type": "execute_result"
    }
   ],
   "source": [
    "contents[0]"
   ]
  },
  {
   "cell_type": "code",
   "execution_count": 7,
   "metadata": {},
   "outputs": [],
   "source": [
    "idx = contents[0].index(\"candidates\")"
   ]
  },
  {
   "cell_type": "code",
   "execution_count": 8,
   "metadata": {},
   "outputs": [
    {
     "data": {
      "text/plain": [
       "420"
      ]
     },
     "execution_count": 8,
     "metadata": {},
     "output_type": "execute_result"
    }
   ],
   "source": [
    "idx"
   ]
  },
  {
   "cell_type": "code",
   "execution_count": 9,
   "metadata": {},
   "outputs": [],
   "source": [
    "clean = contents[0][idx+13:][:-5]"
   ]
  },
  {
   "cell_type": "code",
   "execution_count": 10,
   "metadata": {},
   "outputs": [
    {
     "data": {
      "text/plain": [
       "'{\"plate\":\"THECAR\",\"confidence\":93.418907,\"matches_template\":0},{\"plate\":\"THEGAR\",\"confidence\":78.879166,\"matches_template\":0},{\"plate\":\"THEAR\",\"confidence\":78.851006,\"matches_template\":0},{\"plate\":\"TECAR\",\"confidence\":79.732559,\"matches_template\":0},{\"plate\":\"TMECAR\",\"confidence\":78.519897,\"matches_template\":0},{\"plate\":\"TBECAR\",\"confidence\":78.137581,\"matches_template\":0}'"
      ]
     },
     "execution_count": 10,
     "metadata": {},
     "output_type": "execute_result"
    }
   ],
   "source": [
    "clean"
   ]
  },
  {
   "cell_type": "code",
   "execution_count": 11,
   "metadata": {},
   "outputs": [],
   "source": [
    "data = []"
   ]
  },
  {
   "cell_type": "code",
   "execution_count": 12,
   "metadata": {},
   "outputs": [],
   "source": [
    "data = clean.split(',\"matches_template\":0}')"
   ]
  },
  {
   "cell_type": "code",
   "execution_count": 13,
   "metadata": {},
   "outputs": [
    {
     "data": {
      "text/plain": [
       "['{\"plate\":\"THECAR\",\"confidence\":93.418907',\n",
       " ',{\"plate\":\"THEGAR\",\"confidence\":78.879166',\n",
       " ',{\"plate\":\"THEAR\",\"confidence\":78.851006',\n",
       " ',{\"plate\":\"TECAR\",\"confidence\":79.732559',\n",
       " ',{\"plate\":\"TMECAR\",\"confidence\":78.519897',\n",
       " ',{\"plate\":\"TBECAR\",\"confidence\":78.137581',\n",
       " '']"
      ]
     },
     "execution_count": 13,
     "metadata": {},
     "output_type": "execute_result"
    }
   ],
   "source": [
    "data"
   ]
  },
  {
   "cell_type": "code",
   "execution_count": 14,
   "metadata": {},
   "outputs": [],
   "source": [
    "cleaned_data = data[0][1:]"
   ]
  },
  {
   "cell_type": "code",
   "execution_count": 15,
   "metadata": {},
   "outputs": [
    {
     "data": {
      "text/plain": [
       "str"
      ]
     },
     "execution_count": 15,
     "metadata": {},
     "output_type": "execute_result"
    }
   ],
   "source": [
    "type(cleaned_data)"
   ]
  },
  {
   "cell_type": "code",
   "execution_count": 16,
   "metadata": {},
   "outputs": [
    {
     "data": {
      "text/plain": [
       "'\"plate\":\"THECAR\",\"confidence\":93.418907'"
      ]
     },
     "execution_count": 16,
     "metadata": {},
     "output_type": "execute_result"
    }
   ],
   "source": [
    "cleaned_data"
   ]
  },
  {
   "cell_type": "code",
   "execution_count": 17,
   "metadata": {},
   "outputs": [
    {
     "data": {
      "text/plain": [
       "{'plate': 'THECAR', 'confidence': 93.418907}"
      ]
     },
     "execution_count": 17,
     "metadata": {},
     "output_type": "execute_result"
    }
   ],
   "source": [
    "ast.literal_eval('{'+cleaned_data+'}')"
   ]
  },
  {
   "cell_type": "code",
   "execution_count": 18,
   "metadata": {},
   "outputs": [],
   "source": [
    "dic = {}"
   ]
  },
  {
   "cell_type": "code",
   "execution_count": 19,
   "metadata": {},
   "outputs": [],
   "source": [
    "dic = ast.literal_eval('{'+cleaned_data+'}')"
   ]
  },
  {
   "cell_type": "code",
   "execution_count": 20,
   "metadata": {},
   "outputs": [
    {
     "data": {
      "text/plain": [
       "{'plate': 'THECAR', 'confidence': 93.418907}"
      ]
     },
     "execution_count": 20,
     "metadata": {},
     "output_type": "execute_result"
    }
   ],
   "source": [
    "dic"
   ]
  },
  {
   "cell_type": "code",
   "execution_count": 21,
   "metadata": {},
   "outputs": [],
   "source": [
    "plate = dic['plate']"
   ]
  },
  {
   "cell_type": "code",
   "execution_count": 22,
   "metadata": {},
   "outputs": [
    {
     "name": "stdout",
     "output_type": "stream",
     "text": [
      "THECAR\n"
     ]
    }
   ],
   "source": [
    "print(plate)"
   ]
  },
  {
   "cell_type": "code",
   "execution_count": 23,
   "metadata": {},
   "outputs": [],
   "source": [
    "def detect(filename):\n",
    "    data = []\n",
    "    dic = {}\n",
    "    file = open(filename,'r')\n",
    "    contents = file.readlines()\n",
    "    idx = contents[0].index(\"candidates\")\n",
    "    clean = contents[0][idx+13:][:-5]\n",
    "    data = clean.split(',\"matches_template\":0}')\n",
    "    cleaned_data = data[0][1:]\n",
    "    dic = ast.literal_eval('{'+cleaned_data+'}')\n",
    "    plate = dic['plate']\n",
    "    print(plate)"
   ]
  },
  {
   "cell_type": "code",
   "execution_count": 24,
   "metadata": {},
   "outputs": [
    {
     "name": "stdout",
     "output_type": "stream",
     "text": [
      "THECAR\n"
     ]
    }
   ],
   "source": [
    "detect('test2.txt')"
   ]
  },
  {
   "cell_type": "code",
   "execution_count": 25,
   "metadata": {},
   "outputs": [],
   "source": [
    "df = pd.read_csv('dbase.csv')"
   ]
  },
  {
   "cell_type": "code",
   "execution_count": 26,
   "metadata": {},
   "outputs": [
    {
     "data": {
      "text/plain": [
       "0      BX41PZ\n",
       "1      SAM343\n",
       "2      SAM323\n",
       "3     H786P0J\n",
       "4     GX02BCF\n",
       "5      372275\n",
       "6     DZI7YXR\n",
       "7      THECAR\n",
       "8     YEAUXLO\n",
       "9     UNIVRSE\n",
       "10     LTM378\n",
       "Name: Number Plate, dtype: object"
      ]
     },
     "execution_count": 26,
     "metadata": {},
     "output_type": "execute_result"
    }
   ],
   "source": [
    "df['Number Plate']"
   ]
  },
  {
   "cell_type": "code",
   "execution_count": 27,
   "metadata": {},
   "outputs": [],
   "source": [
    "z = 0"
   ]
  },
  {
   "cell_type": "code",
   "execution_count": 28,
   "metadata": {},
   "outputs": [],
   "source": [
    "for i in df['Number Plate']:\n",
    "    z+=1\n",
    "    if i == plate:\n",
    "        indx = z"
   ]
  },
  {
   "cell_type": "code",
   "execution_count": 29,
   "metadata": {},
   "outputs": [
    {
     "data": {
      "text/plain": [
       "8"
      ]
     },
     "execution_count": 29,
     "metadata": {},
     "output_type": "execute_result"
    }
   ],
   "source": [
    "indx"
   ]
  },
  {
   "cell_type": "code",
   "execution_count": 30,
   "metadata": {},
   "outputs": [
    {
     "data": {
      "text/plain": [
       "pandas.core.frame.DataFrame"
      ]
     },
     "execution_count": 30,
     "metadata": {},
     "output_type": "execute_result"
    }
   ],
   "source": [
    "type(df)"
   ]
  },
  {
   "cell_type": "code",
   "execution_count": 31,
   "metadata": {},
   "outputs": [
    {
     "data": {
      "text/plain": [
       "Number Plate            THECAR\n",
       "Name              Nelson Blaze\n",
       "Phone Number     +447441254544\n",
       "Address         6400 Joes Road\n",
       "Country          United States\n",
       "Name: 7, dtype: object"
      ]
     },
     "execution_count": 31,
     "metadata": {},
     "output_type": "execute_result"
    }
   ],
   "source": [
    "df.iloc[7]"
   ]
  },
  {
   "cell_type": "code",
   "execution_count": 41,
   "metadata": {},
   "outputs": [
    {
     "data": {
      "text/html": [
       "<div>\n",
       "<style scoped>\n",
       "    .dataframe tbody tr th:only-of-type {\n",
       "        vertical-align: middle;\n",
       "    }\n",
       "\n",
       "    .dataframe tbody tr th {\n",
       "        vertical-align: top;\n",
       "    }\n",
       "\n",
       "    .dataframe thead th {\n",
       "        text-align: right;\n",
       "    }\n",
       "</style>\n",
       "<table border=\"1\" class=\"dataframe\">\n",
       "  <thead>\n",
       "    <tr style=\"text-align: right;\">\n",
       "      <th></th>\n",
       "      <th>Number Plate</th>\n",
       "      <th>Name</th>\n",
       "      <th>Phone Number</th>\n",
       "      <th>Address</th>\n",
       "      <th>Country</th>\n",
       "    </tr>\n",
       "  </thead>\n",
       "  <tbody>\n",
       "    <tr>\n",
       "      <th>7</th>\n",
       "      <td>THECAR</td>\n",
       "      <td>Nelson Blaze</td>\n",
       "      <td>+447441254544</td>\n",
       "      <td>6400 Joes Road</td>\n",
       "      <td>United States</td>\n",
       "    </tr>\n",
       "  </tbody>\n",
       "</table>\n",
       "</div>"
      ],
      "text/plain": [
       "  Number Plate          Name    Phone Number         Address        Country\n",
       "7       THECAR  Nelson Blaze   +447441254544  6400 Joes Road  United States"
      ]
     },
     "execution_count": 41,
     "metadata": {},
     "output_type": "execute_result"
    }
   ],
   "source": [
    "df.iloc[[7]]"
   ]
  },
  {
   "cell_type": "code",
   "execution_count": 146,
   "metadata": {},
   "outputs": [],
   "source": [
    "index = pd.Index(range(0))"
   ]
  },
  {
   "cell_type": "code",
   "execution_count": 149,
   "metadata": {},
   "outputs": [],
   "source": []
  },
  {
   "cell_type": "code",
   "execution_count": 153,
   "metadata": {},
   "outputs": [],
   "source": [
    "dframe=df.iloc[[7]].reset_index()"
   ]
  },
  {
   "cell_type": "code",
   "execution_count": 157,
   "metadata": {},
   "outputs": [],
   "source": [
    "del dframe['index']"
   ]
  },
  {
   "cell_type": "code",
   "execution_count": 158,
   "metadata": {},
   "outputs": [
    {
     "data": {
      "text/html": [
       "<div>\n",
       "<style scoped>\n",
       "    .dataframe tbody tr th:only-of-type {\n",
       "        vertical-align: middle;\n",
       "    }\n",
       "\n",
       "    .dataframe tbody tr th {\n",
       "        vertical-align: top;\n",
       "    }\n",
       "\n",
       "    .dataframe thead th {\n",
       "        text-align: right;\n",
       "    }\n",
       "</style>\n",
       "<table border=\"1\" class=\"dataframe\">\n",
       "  <thead>\n",
       "    <tr style=\"text-align: right;\">\n",
       "      <th></th>\n",
       "      <th>Number Plate</th>\n",
       "      <th>Name</th>\n",
       "      <th>Phone Number</th>\n",
       "      <th>Address</th>\n",
       "      <th>Country</th>\n",
       "    </tr>\n",
       "  </thead>\n",
       "  <tbody>\n",
       "    <tr>\n",
       "      <th>0</th>\n",
       "      <td>THECAR</td>\n",
       "      <td>Nelson Blaze</td>\n",
       "      <td>+447441254544</td>\n",
       "      <td>6400 Joes Road</td>\n",
       "      <td>United States</td>\n",
       "    </tr>\n",
       "  </tbody>\n",
       "</table>\n",
       "</div>"
      ],
      "text/plain": [
       "  Number Plate          Name    Phone Number         Address        Country\n",
       "0       THECAR  Nelson Blaze   +447441254544  6400 Joes Road  United States"
      ]
     },
     "execution_count": 158,
     "metadata": {},
     "output_type": "execute_result"
    }
   ],
   "source": [
    "dframe"
   ]
  },
  {
   "cell_type": "code",
   "execution_count": 32,
   "metadata": {},
   "outputs": [],
   "source": [
    "df.to_csv('results.csv')"
   ]
  },
  {
   "cell_type": "code",
   "execution_count": 59,
   "metadata": {},
   "outputs": [],
   "source": [
    "import time\n",
    "import datetime"
   ]
  },
  {
   "cell_type": "code",
   "execution_count": 159,
   "metadata": {},
   "outputs": [],
   "source": [
    "fdat = pd.DataFrame({'date': [time.strftime('%Y-%m-%d %H:%M:%S')]})\n",
    "tdat = pd.DataFrame({'date': [modified_date]})"
   ]
  },
  {
   "cell_type": "code",
   "execution_count": null,
   "metadata": {},
   "outputs": [],
   "source": []
  },
  {
   "cell_type": "code",
   "execution_count": 73,
   "metadata": {},
   "outputs": [],
   "source": [
    "modified_date = datetime.datetime.now() + datetime.timedelta(days = 30)"
   ]
  },
  {
   "cell_type": "code",
   "execution_count": 74,
   "metadata": {},
   "outputs": [
    {
     "data": {
      "text/plain": [
       "datetime.datetime(2019, 6, 24, 2, 15, 34, 494593)"
      ]
     },
     "execution_count": 74,
     "metadata": {},
     "output_type": "execute_result"
    }
   ],
   "source": [
    "modified_date"
   ]
  },
  {
   "cell_type": "code",
   "execution_count": 80,
   "metadata": {},
   "outputs": [],
   "source": [
    "modified_date = datetime.datetime.strftime(modified_date, \"%Y-%m-%d %H:%M:%S\")"
   ]
  },
  {
   "cell_type": "code",
   "execution_count": 81,
   "metadata": {},
   "outputs": [
    {
     "data": {
      "text/plain": [
       "'2019-06-24 02:15:34'"
      ]
     },
     "execution_count": 81,
     "metadata": {},
     "output_type": "execute_result"
    }
   ],
   "source": [
    "modified_date"
   ]
  },
  {
   "cell_type": "code",
   "execution_count": 110,
   "metadata": {},
   "outputs": [],
   "source": [
    "import time\n",
    "import datetime\n",
    "date = time.strftime('%Y-%m-%d %H:%M:%S')\n",
    "modified_date = datetime.datetime.now() + datetime.timedelta(days = 30)\n",
    "modified_date = datetime.datetime.strftime(modified_date, \"%Y-%m-%d %H:%M:%S\")\n",
    "fdat = pd.DataFrame({'Date': [date]})\n",
    "tdat = pd.DataFrame({'Till Date': [modified_date]})"
   ]
  },
  {
   "cell_type": "code",
   "execution_count": 160,
   "metadata": {},
   "outputs": [
    {
     "data": {
      "text/html": [
       "<div>\n",
       "<style scoped>\n",
       "    .dataframe tbody tr th:only-of-type {\n",
       "        vertical-align: middle;\n",
       "    }\n",
       "\n",
       "    .dataframe tbody tr th {\n",
       "        vertical-align: top;\n",
       "    }\n",
       "\n",
       "    .dataframe thead th {\n",
       "        text-align: right;\n",
       "    }\n",
       "</style>\n",
       "<table border=\"1\" class=\"dataframe\">\n",
       "  <thead>\n",
       "    <tr style=\"text-align: right;\">\n",
       "      <th></th>\n",
       "      <th>Number Plate</th>\n",
       "      <th>Name</th>\n",
       "      <th>Phone Number</th>\n",
       "      <th>Address</th>\n",
       "      <th>Country</th>\n",
       "      <th>date</th>\n",
       "      <th>date</th>\n",
       "    </tr>\n",
       "  </thead>\n",
       "  <tbody>\n",
       "    <tr>\n",
       "      <th>0</th>\n",
       "      <td>THECAR</td>\n",
       "      <td>Nelson Blaze</td>\n",
       "      <td>+447441254544</td>\n",
       "      <td>6400 Joes Road</td>\n",
       "      <td>United States</td>\n",
       "      <td>2019-05-25 02:58:38</td>\n",
       "      <td>2019-06-24 02:41:37</td>\n",
       "    </tr>\n",
       "  </tbody>\n",
       "</table>\n",
       "</div>"
      ],
      "text/plain": [
       "  Number Plate          Name    Phone Number         Address        Country  \\\n",
       "0       THECAR  Nelson Blaze   +447441254544  6400 Joes Road  United States   \n",
       "\n",
       "                  date                 date  \n",
       "0  2019-05-25 02:58:38  2019-06-24 02:41:37  "
      ]
     },
     "execution_count": 160,
     "metadata": {},
     "output_type": "execute_result"
    }
   ],
   "source": [
    "pd.concat([dframe,fdat,tdat],axis = 1)"
   ]
  },
  {
   "cell_type": "code",
   "execution_count": 136,
   "metadata": {},
   "outputs": [
    {
     "data": {
      "text/html": [
       "<div>\n",
       "<style scoped>\n",
       "    .dataframe tbody tr th:only-of-type {\n",
       "        vertical-align: middle;\n",
       "    }\n",
       "\n",
       "    .dataframe tbody tr th {\n",
       "        vertical-align: top;\n",
       "    }\n",
       "\n",
       "    .dataframe thead th {\n",
       "        text-align: right;\n",
       "    }\n",
       "</style>\n",
       "<table border=\"1\" class=\"dataframe\">\n",
       "  <thead>\n",
       "    <tr style=\"text-align: right;\">\n",
       "      <th></th>\n",
       "      <th>Date</th>\n",
       "    </tr>\n",
       "  </thead>\n",
       "  <tbody>\n",
       "    <tr>\n",
       "      <th>0</th>\n",
       "      <td>2019-05-25 02:41:37</td>\n",
       "    </tr>\n",
       "  </tbody>\n",
       "</table>\n",
       "</div>"
      ],
      "text/plain": [
       "                  Date\n",
       "0  2019-05-25 02:41:37"
      ]
     },
     "execution_count": 136,
     "metadata": {},
     "output_type": "execute_result"
    }
   ],
   "source": []
  },
  {
   "cell_type": "code",
   "execution_count": 133,
   "metadata": {},
   "outputs": [],
   "source": [
    "z = pd.concat([df,fdat,tdat],axis = 1)"
   ]
  },
  {
   "cell_type": "code",
   "execution_count": 93,
   "metadata": {},
   "outputs": [
    {
     "data": {
      "text/html": [
       "<div>\n",
       "<style scoped>\n",
       "    .dataframe tbody tr th:only-of-type {\n",
       "        vertical-align: middle;\n",
       "    }\n",
       "\n",
       "    .dataframe tbody tr th {\n",
       "        vertical-align: top;\n",
       "    }\n",
       "\n",
       "    .dataframe thead th {\n",
       "        text-align: right;\n",
       "    }\n",
       "</style>\n",
       "<table border=\"1\" class=\"dataframe\">\n",
       "  <thead>\n",
       "    <tr style=\"text-align: right;\">\n",
       "      <th></th>\n",
       "      <th>Number Plate</th>\n",
       "      <th>Name</th>\n",
       "      <th>Phone Number</th>\n",
       "      <th>Address</th>\n",
       "      <th>Country</th>\n",
       "      <th>date</th>\n",
       "      <th>date</th>\n",
       "    </tr>\n",
       "  </thead>\n",
       "  <tbody>\n",
       "    <tr>\n",
       "      <th>0</th>\n",
       "      <td>BX41PZ</td>\n",
       "      <td>Christine Arnold</td>\n",
       "      <td>+13308702044</td>\n",
       "      <td>4745 Sigley Road</td>\n",
       "      <td>Australia</td>\n",
       "      <td>2019-05-25 02:18:38</td>\n",
       "      <td>2019-06-24 02:18:38</td>\n",
       "    </tr>\n",
       "    <tr>\n",
       "      <th>1</th>\n",
       "      <td>SAM343</td>\n",
       "      <td>Cory Lyle</td>\n",
       "      <td>+491771789232</td>\n",
       "      <td>517 Lonely Oak Drive</td>\n",
       "      <td>Europe</td>\n",
       "      <td>NaN</td>\n",
       "      <td>NaN</td>\n",
       "    </tr>\n",
       "    <tr>\n",
       "      <th>2</th>\n",
       "      <td>SAM323</td>\n",
       "      <td>Roy Lyle</td>\n",
       "      <td>+41771789245</td>\n",
       "      <td>289 Swick Hill Street</td>\n",
       "      <td>Europe</td>\n",
       "      <td>NaN</td>\n",
       "      <td>NaN</td>\n",
       "    </tr>\n",
       "    <tr>\n",
       "      <th>3</th>\n",
       "      <td>H786P0J</td>\n",
       "      <td>Bertie Cunningham</td>\n",
       "      <td>+447441934144</td>\n",
       "      <td>1428 Goldcliff Circle</td>\n",
       "      <td>Europe</td>\n",
       "      <td>NaN</td>\n",
       "      <td>NaN</td>\n",
       "    </tr>\n",
       "    <tr>\n",
       "      <th>4</th>\n",
       "      <td>GX02BCF</td>\n",
       "      <td>Christine Burnett</td>\n",
       "      <td>+13308709654</td>\n",
       "      <td>1376 Cliffside Drive</td>\n",
       "      <td>Europe</td>\n",
       "      <td>NaN</td>\n",
       "      <td>NaN</td>\n",
       "    </tr>\n",
       "    <tr>\n",
       "      <th>5</th>\n",
       "      <td>372275</td>\n",
       "      <td>Francine Sanchez</td>\n",
       "      <td>+4910112789232</td>\n",
       "      <td>2367 Tori Lane</td>\n",
       "      <td>Kuwait</td>\n",
       "      <td>NaN</td>\n",
       "      <td>NaN</td>\n",
       "    </tr>\n",
       "    <tr>\n",
       "      <th>6</th>\n",
       "      <td>DZI7YXR</td>\n",
       "      <td>Eric Horne</td>\n",
       "      <td>+41773019245</td>\n",
       "      <td>4933 Seth Street</td>\n",
       "      <td>Liberia</td>\n",
       "      <td>NaN</td>\n",
       "      <td>NaN</td>\n",
       "    </tr>\n",
       "    <tr>\n",
       "      <th>7</th>\n",
       "      <td>THECAR</td>\n",
       "      <td>Nelson Blaze</td>\n",
       "      <td>+447441254544</td>\n",
       "      <td>6400 Joes Road</td>\n",
       "      <td>United States</td>\n",
       "      <td>NaN</td>\n",
       "      <td>NaN</td>\n",
       "    </tr>\n",
       "    <tr>\n",
       "      <th>8</th>\n",
       "      <td>YEAUXLO</td>\n",
       "      <td>Amy Whitehead</td>\n",
       "      <td>+13308730144</td>\n",
       "      <td>1784 Petunia Way</td>\n",
       "      <td>United States</td>\n",
       "      <td>NaN</td>\n",
       "      <td>NaN</td>\n",
       "    </tr>\n",
       "    <tr>\n",
       "      <th>9</th>\n",
       "      <td>UNIVRSE</td>\n",
       "      <td>Ana Smith</td>\n",
       "      <td>+491771354232</td>\n",
       "      <td>3589 Hanover Street</td>\n",
       "      <td>United States</td>\n",
       "      <td>NaN</td>\n",
       "      <td>NaN</td>\n",
       "    </tr>\n",
       "    <tr>\n",
       "      <th>10</th>\n",
       "      <td>LTM378</td>\n",
       "      <td>Virginia Bradshaw</td>\n",
       "      <td>+41773589245</td>\n",
       "      <td>5325 Virginia Street</td>\n",
       "      <td>United States</td>\n",
       "      <td>NaN</td>\n",
       "      <td>NaN</td>\n",
       "    </tr>\n",
       "  </tbody>\n",
       "</table>\n",
       "</div>"
      ],
      "text/plain": [
       "   Number Plate               Name     Phone Number                Address  \\\n",
       "0        BX41PZ   Christine Arnold     +13308702044       4745 Sigley Road   \n",
       "1        SAM343          Cory Lyle    +491771789232   517 Lonely Oak Drive   \n",
       "2        SAM323           Roy Lyle     +41771789245  289 Swick Hill Street   \n",
       "3       H786P0J  Bertie Cunningham    +447441934144  1428 Goldcliff Circle   \n",
       "4       GX02BCF  Christine Burnett     +13308709654   1376 Cliffside Drive   \n",
       "5        372275   Francine Sanchez   +4910112789232         2367 Tori Lane   \n",
       "6       DZI7YXR         Eric Horne     +41773019245       4933 Seth Street   \n",
       "7        THECAR       Nelson Blaze    +447441254544         6400 Joes Road   \n",
       "8       YEAUXLO      Amy Whitehead     +13308730144       1784 Petunia Way   \n",
       "9       UNIVRSE          Ana Smith    +491771354232    3589 Hanover Street   \n",
       "10       LTM378  Virginia Bradshaw     +41773589245   5325 Virginia Street   \n",
       "\n",
       "          Country                 date                 date  \n",
       "0       Australia  2019-05-25 02:18:38  2019-06-24 02:18:38  \n",
       "1          Europe                  NaN                  NaN  \n",
       "2          Europe                  NaN                  NaN  \n",
       "3          Europe                  NaN                  NaN  \n",
       "4          Europe                  NaN                  NaN  \n",
       "5          Kuwait                  NaN                  NaN  \n",
       "6         Liberia                  NaN                  NaN  \n",
       "7   United States                  NaN                  NaN  \n",
       "8   United States                  NaN                  NaN  \n",
       "9   United States                  NaN                  NaN  \n",
       "10  United States                  NaN                  NaN  "
      ]
     },
     "execution_count": 93,
     "metadata": {},
     "output_type": "execute_result"
    }
   ],
   "source": [
    "z"
   ]
  },
  {
   "cell_type": "code",
   "execution_count": null,
   "metadata": {},
   "outputs": [],
   "source": [
    "with open('results.csv','a') as fd:\n",
    "    df.iloc[[7]].to_csv(fd, header=False, index=False)"
   ]
  },
  {
   "cell_type": "code",
   "execution_count": 94,
   "metadata": {},
   "outputs": [
    {
     "data": {
      "text/plain": [
       "0"
      ]
     },
     "execution_count": 94,
     "metadata": {},
     "output_type": "execute_result"
    }
   ],
   "source": [
    "os.system('index.html')"
   ]
  },
  {
   "cell_type": "code",
   "execution_count": null,
   "metadata": {},
   "outputs": [],
   "source": []
  }
 ],
 "metadata": {
  "kernelspec": {
   "display_name": "Python 3",
   "language": "python",
   "name": "python3"
  },
  "language_info": {
   "codemirror_mode": {
    "name": "ipython",
    "version": 3
   },
   "file_extension": ".py",
   "mimetype": "text/x-python",
   "name": "python",
   "nbconvert_exporter": "python",
   "pygments_lexer": "ipython3",
   "version": "3.7.3"
  }
 },
 "nbformat": 4,
 "nbformat_minor": 2
}
