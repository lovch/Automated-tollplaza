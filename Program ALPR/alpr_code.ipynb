{
 "cells": [
  {
   "cell_type": "code",
   "execution_count": 1,
   "metadata": {},
   "outputs": [],
   "source": [
    "import pandas as pd\n",
    "import os\n",
    "import ast\n",
    "import time\n",
    "import csv\n",
    "import datetime"
   ]
  },
  {
   "cell_type": "code",
   "execution_count": 2,
   "metadata": {},
   "outputs": [],
   "source": [
    "def create(country,filename):\n",
    "    print('Creating....')\n",
    "    os.system('alpr -c {} -j {} C:\\OpenAlpr\\openalpr_64\\openalpr.conf\\\n",
    "    > test2.txt'.format(country,filename))\n",
    "    detect()"
   ]
  },
  {
   "cell_type": "code",
   "execution_count": 3,
   "metadata": {},
   "outputs": [],
   "source": [
    "def detect():\n",
    "    print('Detecting....')\n",
    "    data = []\n",
    "    dic = {}\n",
    "    file = open('test2.txt','r')\n",
    "    contents = file.readlines()\n",
    "    idx = contents[0].index(\"candidates\")\n",
    "    clean = contents[0][idx+13:][:-5]\n",
    "    data = clean.split(',\"matches_template\":0}')\n",
    "    cleaned_data = data[0][1:]\n",
    "    dic = ast.literal_eval('{'+cleaned_data+'}')\n",
    "    plate = dic['plate']\n",
    "    output(plate)"
   ]
  },
  {
   "cell_type": "code",
   "execution_count": 4,
   "metadata": {},
   "outputs": [],
   "source": [
    "def output(plate):\n",
    "    print('Processing....')\n",
    "    df = pd.read_csv('dbase.csv')\n",
    "    z = 0\n",
    "    for i in df['Number Plate']:\n",
    "        z+=1\n",
    "        if i == plate:\n",
    "            indx = z\n",
    "    print('Result - \\n')\n",
    "    results = df.iloc[[indx-1]].reset_index()\n",
    "    del results['index']\n",
    "    print(df.iloc[indx-1])\n",
    "    invoice(results)"
   ]
  },
  {
   "cell_type": "code",
   "execution_count": 5,
   "metadata": {},
   "outputs": [],
   "source": [
    "def invoice(dframe):\n",
    "    date = time.strftime('%Y-%m-%d %H:%M:%S')\n",
    "    modified_date = datetime.datetime.now() + datetime.timedelta(days = 30)\n",
    "    modified_date = datetime.datetime.strftime(modified_date, \"%Y-%m-%d %H:%M:%S\")\n",
    "    fdat = pd.DataFrame({'Date': [date]})\n",
    "    tdat = pd.DataFrame({'last Date': [modified_date]})\n",
    "    new_df = pd.concat([dframe,fdat,tdat],axis = 1)\n",
    "    with open('results.csv','a') as fd:\n",
    "        new_df.to_csv(fd, header=False,encoding=\"utf-8\", index=False)\n",
    "    #with open(\"results.csv\", \"r\") as f:\n",
    "        #contents = f.read().encode(\"UTF-8\")\n",
    "        #contents.to_csv(f.decode())\n",
    "    os.system('index.html')"
   ]
  },
  {
   "cell_type": "code",
   "execution_count": 6,
   "metadata": {},
   "outputs": [],
   "source": [
    "def begin():\n",
    "    print('Enter Country Code')\n",
    "    ccode = input()\n",
    "    print('Enter Image name')\n",
    "    iname = input()+'.jpg'\n",
    "    create(ccode,iname)"
   ]
  },
  {
   "cell_type": "code",
   "execution_count": 12,
   "metadata": {},
   "outputs": [
    {
     "name": "stdout",
     "output_type": "stream",
     "text": [
      "Enter Country Code\n",
      "us\n",
      "Enter Image name\n",
      "us-4\n",
      "Creating....\n",
      "Detecting....\n",
      "Processing....\n",
      "Result - \n",
      "\n",
      "Number Plate                  LTM378\n",
      "Name               Virginia Bradshaw\n",
      "Phone Number            +41773589245\n",
      "Address         5325 Virginia Street\n",
      "Country                United States\n",
      "Name: 10, dtype: object\n"
     ]
    }
   ],
   "source": [
    "begin()"
   ]
  },
  {
   "cell_type": "code",
   "execution_count": null,
   "metadata": {},
   "outputs": [],
   "source": []
  },
  {
   "cell_type": "code",
   "execution_count": null,
   "metadata": {},
   "outputs": [],
   "source": []
  }
 ],
 "metadata": {
  "kernelspec": {
   "display_name": "Python 3",
   "language": "python",
   "name": "python3"
  },
  "language_info": {
   "codemirror_mode": {
    "name": "ipython",
    "version": 3
   },
   "file_extension": ".py",
   "mimetype": "text/x-python",
   "name": "python",
   "nbconvert_exporter": "python",
   "pygments_lexer": "ipython3",
   "version": "3.7.3"
  }
 },
 "nbformat": 4,
 "nbformat_minor": 2
}
